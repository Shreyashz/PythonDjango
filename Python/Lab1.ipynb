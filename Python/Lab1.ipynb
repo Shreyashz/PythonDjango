{
  "nbformat": 4,
  "nbformat_minor": 0,
  "metadata": {
    "colab": {
      "provenance": [],
      "authorship_tag": "ABX9TyOqEimxW667S3ES/z+xA0Ct",
      "include_colab_link": true
    },
    "kernelspec": {
      "name": "python3",
      "display_name": "Python 3"
    },
    "language_info": {
      "name": "python"
    }
  },
  "cells": [
    {
      "cell_type": "markdown",
      "metadata": {
        "id": "view-in-github",
        "colab_type": "text"
      },
      "source": [
        "<a href=\"https://colab.research.google.com/github/Shreyashz/PythonDjango/blob/main/Python/Lab1.ipynb\" target=\"_parent\"><img src=\"https://colab.research.google.com/assets/colab-badge.svg\" alt=\"Open In Colab\"/></a>"
      ]
    },
    {
      "cell_type": "markdown",
      "source": [
        "<h3>1. Calculate the sum of all numbers from 1 to a given number"
      ],
      "metadata": {
        "id": "UFdtcUTl1D4J"
      }
    },
    {
      "cell_type": "code",
      "execution_count": null,
      "metadata": {
        "colab": {
          "base_uri": "https://localhost:8080/"
        },
        "id": "uTjKz7zT08nr",
        "outputId": "9aef239e-c8e7-4d7c-acda-dca01facb56b"
      },
      "outputs": [
        {
          "output_type": "stream",
          "name": "stdout",
          "text": [
            "Enter a number:5\n",
            "Your number is  15\n"
          ]
        }
      ],
      "source": [
        "n=int(input(\"Enter a number:\"))\n",
        "sum=0\n",
        "for i in range(n+1):\n",
        "  sum = sum+i\n",
        "\n",
        "print(\"Your number is \",sum)"
      ]
    },
    {
      "cell_type": "markdown",
      "source": [
        "<h3>2. Write a program to display all prime numbers within a range"
      ],
      "metadata": {
        "id": "AQDRYv221rkj"
      }
    },
    {
      "cell_type": "code",
      "source": [
        "from math import sqrt\n",
        "n=int(input(\"Enter Lower limit:\"))\n",
        "m=int(input(\"Enter Upper limit:\"))\n",
        "for i in range(n,m+1):\n",
        "  isNotPrime=False\n",
        "  for j in range(2, int(sqrt(i))+1):\n",
        "    if i%j == 0:\n",
        "      isNotPrime=True\n",
        "      break\n",
        "  if (not isNotPrime) and (i!=0 and i!=1):\n",
        "    print(i)"
      ],
      "metadata": {
        "colab": {
          "base_uri": "https://localhost:8080/"
        },
        "id": "IMcQENCP1u_u",
        "outputId": "dd43aadd-a678-4a34-e1e2-054923e8d350"
      },
      "execution_count": 13,
      "outputs": [
        {
          "output_type": "stream",
          "name": "stdout",
          "text": [
            "Enter Lower limit:0\n",
            "Enter Upper limit:100\n",
            "2\n",
            "3\n",
            "5\n",
            "7\n",
            "11\n",
            "13\n",
            "17\n",
            "19\n",
            "23\n",
            "29\n",
            "31\n",
            "37\n",
            "41\n",
            "43\n",
            "47\n",
            "53\n",
            "59\n",
            "61\n",
            "67\n",
            "71\n",
            "73\n",
            "79\n",
            "83\n",
            "89\n",
            "97\n"
          ]
        }
      ]
    },
    {
      "cell_type": "markdown",
      "source": [
        "3. A shop will give discount of 10% if the cost of purchased quantity is more than 1000. Ask user for quantity Suppose, one unit will cost 100. Judge and print total cost for user."
      ],
      "metadata": {
        "id": "Nz2DAyrZ2eCs"
      }
    },
    {
      "cell_type": "code",
      "source": [
        "Quant=int(input(\"Quantity:\"))\n",
        "cost=Quant*100\n",
        "if(cost>1000):\n",
        "  cost=cost-cost*0.1\n",
        "print(cost)"
      ],
      "metadata": {
        "colab": {
          "base_uri": "https://localhost:8080/"
        },
        "id": "Kgpn1Zat2gtg",
        "outputId": "452aaece-7e4d-4a19-a7d5-a98273fab718"
      },
      "execution_count": 16,
      "outputs": [
        {
          "output_type": "stream",
          "name": "stdout",
          "text": [
            "Quantity:1\n",
            "100\n"
          ]
        }
      ]
    },
    {
      "cell_type": "markdown",
      "source": [
        "4. A school has following rules for grading system:\n",
        "\n",
        "\n",
        "1.   Below 25 - F\n",
        "2.   25 to 45 - E\n",
        "1.   45 to 50 - D\n",
        "2.   50 to 60 - C\n",
        "1.   60 to 80 - B\n",
        "2.   Above 80 - A\n",
        "\n",
        "\n",
        "\n",
        "\n",
        "\n",
        "\n",
        "\n",
        "Ask user to enter marks and print the corresponding grade."
      ],
      "metadata": {
        "id": "6tDv6yYp3Ni5"
      }
    },
    {
      "cell_type": "code",
      "source": [
        "marks=int(input(\"Enter Marks\"))\n",
        "if marks>=80 and marks<=100:\n",
        "  print(\"A\")\n",
        "elif marks<80 and marks>=60:\n",
        "  print(\"B\")\n",
        "elif marks<60 and marks>=50:\n",
        "  print(\"C\")\n",
        "elif marks<50 and marks>=45:\n",
        "  print(\"D\")\n",
        "elif marks<45 and marks>=25:\n",
        "  print(\"E\")\n",
        "else:\n",
        "  print(\"F\")"
      ],
      "metadata": {
        "colab": {
          "base_uri": "https://localhost:8080/"
        },
        "id": "D-mGJiPX3RDa",
        "outputId": "157e7017-4f98-41ee-af5c-70d0d690ae81"
      },
      "execution_count": 19,
      "outputs": [
        {
          "output_type": "stream",
          "name": "stdout",
          "text": [
            "Enter Marks101\n",
            "F\n"
          ]
        }
      ]
    },
    {
      "cell_type": "markdown",
      "source": [
        "5. Write a program to find largest number out of three numbers entered by user."
      ],
      "metadata": {
        "id": "sxVgLh9i4spV"
      }
    },
    {
      "cell_type": "code",
      "source": [
        "a = list(map(int, input().split())); print(max(a))"
      ],
      "metadata": {
        "colab": {
          "base_uri": "https://localhost:8080/"
        },
        "id": "Aeotf_w64vAg",
        "outputId": "9956dab6-d6e9-4dd8-d5d5-632012c7e741"
      },
      "execution_count": 20,
      "outputs": [
        {
          "output_type": "stream",
          "name": "stdout",
          "text": [
            "1 25 335 66 5898 5612 4894 89 5616 567689 565486\n",
            "567689\n"
          ]
        }
      ]
    }
  ]
}